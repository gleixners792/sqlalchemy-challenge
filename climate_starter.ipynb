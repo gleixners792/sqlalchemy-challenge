{
 "cells": [
  {
   "cell_type": "code",
   "execution_count": 1,
   "metadata": {},
   "outputs": [],
   "source": [
    "%matplotlib inline\n",
    "from matplotlib import style\n",
    "style.use('fivethirtyeight')\n",
    "import matplotlib.pyplot as plt"
   ]
  },
  {
   "cell_type": "code",
   "execution_count": 2,
   "metadata": {},
   "outputs": [],
   "source": [
    "import numpy as np\n",
    "import pandas as pd"
   ]
  },
  {
   "cell_type": "code",
   "execution_count": 3,
   "metadata": {},
   "outputs": [],
   "source": [
    "import datetime as dt"
   ]
  },
  {
   "cell_type": "markdown",
   "metadata": {},
   "source": [
    "# Reflect Tables into SQLAlchemy ORM"
   ]
  },
  {
   "cell_type": "code",
   "execution_count": 4,
   "metadata": {},
   "outputs": [],
   "source": [
    "# Python SQL toolkit and Object Relational Mapper\n",
    "import sqlalchemy\n",
    "from sqlalchemy.ext.automap import automap_base\n",
    "from sqlalchemy.orm import Session\n",
    "from sqlalchemy import create_engine, func, inspect, or_"
   ]
  },
  {
   "cell_type": "code",
   "execution_count": 5,
   "metadata": {},
   "outputs": [],
   "source": [
    "engine = create_engine(\"sqlite:///Resources/hawaii.sqlite\")"
   ]
  },
  {
   "cell_type": "code",
   "execution_count": 6,
   "metadata": {},
   "outputs": [
    {
     "data": {
      "text/plain": [
       "['measurement', 'station']"
      ]
     },
     "execution_count": 6,
     "metadata": {},
     "output_type": "execute_result"
    }
   ],
   "source": [
    "# reflect an existing database into a new model (With Inspect Library Function)\n",
    "\n",
    "# reflect the tables\n",
    "\n",
    "inspector = inspect(engine)\n",
    "inspector.get_table_names()"
   ]
  },
  {
   "cell_type": "code",
   "execution_count": 7,
   "metadata": {},
   "outputs": [],
   "source": [
    "# reflect an existing database into a new model (With AutoMap Library Function)\n",
    "\n",
    "# reflect the tables\n",
    "\n",
    "Base = automap_base()\n",
    "Base.prepare(engine, reflect=True)"
   ]
  },
  {
   "cell_type": "code",
   "execution_count": 8,
   "metadata": {},
   "outputs": [
    {
     "data": {
      "text/plain": [
       "['measurement', 'station']"
      ]
     },
     "execution_count": 8,
     "metadata": {},
     "output_type": "execute_result"
    }
   ],
   "source": [
    "# We can view all of the classes that automap found\n",
    "Base.classes.keys()"
   ]
  },
  {
   "cell_type": "code",
   "execution_count": 9,
   "metadata": {},
   "outputs": [],
   "source": [
    "# Save references to each table\n",
    "Measurement = Base.classes.measurement\n",
    "Station = Base.classes.station"
   ]
  },
  {
   "cell_type": "code",
   "execution_count": 10,
   "metadata": {},
   "outputs": [],
   "source": [
    "# Create our session (link) from Python to the DB\n",
    "session = Session(engine)"
   ]
  },
  {
   "cell_type": "markdown",
   "metadata": {},
   "source": [
    "# Exploratory Climate Analysis"
   ]
  },
  {
   "cell_type": "code",
   "execution_count": 11,
   "metadata": {},
   "outputs": [
    {
     "data": {
      "image/png": "[encoded data removed]",
      "text/plain": [
       "<Figure size 1008x576 with 1 Axes>"
      ]
     },
     "metadata": {},
     "output_type": "display_data"
    }
   ],
   "source": [
    "# Design a query to retrieve the last 12 months of precipitation data and plot the results\n",
    "\n",
    "# Calculate the date 1 year ago from the last data point in the database\n",
    "#first_date = session.query(Measurement.date).order_by(Measurement.date).first()\n",
    "latest_date = session.query(Measurement.date).order_by(Measurement.date.desc()).first()\n",
    "\n",
    "fmt = \"('%Y-%m-%d',)\"\n",
    "latest_date_sql = dt.datetime.strptime(str(latest_date),fmt)\n",
    "\n",
    "query_date = latest_date_sql - dt.timedelta(days=365)\n",
    "\n",
    "# Perform a query to retrieve the data and precipitation scores\n",
    "sel = [Measurement.date,\n",
    "       Measurement.prcp]\n",
    "    \n",
    "data = session.query(*sel).filter(func.strftime(\"%Y-%m-%d\", Measurement.date) >= query_date).all()\n",
    "\n",
    "# Save the query results as a Pandas DataFrame and set the index to the date column \n",
    "data_df = pd.DataFrame(data, columns=['date', 'precipition'])\n",
    "data_df.set_index('date', inplace = True)\n",
    "\n",
    "# Sort the dataframe by date\n",
    "data_df = data_df.sort_values('date',ascending=True)\n",
    "\n",
    "# Use Pandas Plotting with Matplotlib to plot the data\n",
    "\n",
    "ax = data_df.plot.bar(width=5.0,align='center',figsize=(14,8), zorder=3)\n",
    "ax.set_ylabel(\"Inches\")\n",
    "ax.grid(zorder=0)\n",
    "plt.locator_params(axis='x', nbins=9)\n",
    "plt.tight_layout()\n",
    "plt.show()\n",
    "\n"
   ]
  },
  {
   "cell_type": "code",
   "execution_count": 12,
   "metadata": {},
   "outputs": [
    {
     "name": "stdout",
     "output_type": "stream",
     "text": [
      "The Summary Statistics of the Precipitation Data Below:\n"
     ]
    },
    {
     "data": {
      "text/html": [
       "<div>\n",
       "<style scoped>\n",
       "    .dataframe tbody tr th:only-of-type {\n",
       "        vertical-align: middle;\n",
       "    }\n",
       "\n",
       "    .dataframe tbody tr th {\n",
       "        vertical-align: top;\n",
       "    }\n",
       "\n",
       "    .dataframe thead th {\n",
       "        text-align: right;\n",
       "    }\n",
       "</style>\n",
       "<table border=\"1\" class=\"dataframe\">\n",
       "  <thead>\n",
       "    <tr style=\"text-align: right;\">\n",
       "      <th></th>\n",
       "      <th>precipition</th>\n",
       "    </tr>\n",
       "  </thead>\n",
       "  <tbody>\n",
       "    <tr>\n",
       "      <th>count</th>\n",
       "      <td>2015.000000</td>\n",
       "    </tr>\n",
       "    <tr>\n",
       "      <th>mean</th>\n",
       "      <td>0.176462</td>\n",
       "    </tr>\n",
       "    <tr>\n",
       "      <th>std</th>\n",
       "      <td>0.460288</td>\n",
       "    </tr>\n",
       "    <tr>\n",
       "      <th>min</th>\n",
       "      <td>0.000000</td>\n",
       "    </tr>\n",
       "    <tr>\n",
       "      <th>25%</th>\n",
       "      <td>0.000000</td>\n",
       "    </tr>\n",
       "    <tr>\n",
       "      <th>50%</th>\n",
       "      <td>0.020000</td>\n",
       "    </tr>\n",
       "    <tr>\n",
       "      <th>75%</th>\n",
       "      <td>0.130000</td>\n",
       "    </tr>\n",
       "    <tr>\n",
       "      <th>max</th>\n",
       "      <td>6.700000</td>\n",
       "    </tr>\n",
       "  </tbody>\n",
       "</table>\n",
       "</div>"
      ],
      "text/plain": [
       "       precipition\n",
       "count  2015.000000\n",
       "mean      0.176462\n",
       "std       0.460288\n",
       "min       0.000000\n",
       "25%       0.000000\n",
       "50%       0.020000\n",
       "75%       0.130000\n",
       "max       6.700000"
      ]
     },
     "execution_count": 12,
     "metadata": {},
     "output_type": "execute_result"
    }
   ],
   "source": [
    "# Use Pandas to calcualte the summary statistics for the precipitation data\n",
    "\n",
    "print(\"The Summary Statistics of the Precipitation Data Below:\")\n",
    "\n",
    "data_df.describe()"
   ]
  },
  {
   "cell_type": "code",
   "execution_count": 13,
   "metadata": {},
   "outputs": [
    {
     "name": "stdout",
     "output_type": "stream",
     "text": [
      "The number of Stations in the Stations Dataset>>> 9\n",
      "\n",
      "The number of Stations in the Measurement Dataset>>> 9\n"
     ]
    }
   ],
   "source": [
    "# Design a query to show how many stations are available in this dataset?\n",
    "\n",
    "station_cnt = session.query(Station.id).count()\n",
    "print(\"The number of Stations in the Stations Dataset>>>\", station_cnt)\n",
    "print(\"\")\n",
    "\n",
    "station_cnt_mea = session.query(Measurement.station).group_by(Measurement.station).count()\n",
    "print(\"The number of Stations in the Measurement Dataset>>>\", station_cnt_mea)"
   ]
  },
  {
   "cell_type": "code",
   "execution_count": 14,
   "metadata": {},
   "outputs": [
    {
     "data": {
      "text/plain": [
       "[('USC00519281', 2772),\n",
       " ('USC00519397', 2724),\n",
       " ('USC00513117', 2709),\n",
       " ('USC00519523', 2669),\n",
       " ('USC00516128', 2612),\n",
       " ('USC00514830', 2202),\n",
       " ('USC00511918', 1979),\n",
       " ('USC00517948', 1372),\n",
       " ('USC00518838', 511)]"
      ]
     },
     "execution_count": 14,
     "metadata": {},
     "output_type": "execute_result"
    }
   ],
   "source": [
    "# What are the most active stations? (i.e. what stations have the most rows)?\n",
    "# List the stations and the counts in descending order.\n",
    "\n",
    "station_cnt_max = session.query(Measurement.station, func.count(Measurement.station)).\\\n",
    "                  group_by(Measurement.station).order_by(func.count(Measurement.station).desc()).all()\n",
    "station_cnt_max"
   ]
  },
  {
   "cell_type": "code",
   "execution_count": 15,
   "metadata": {},
   "outputs": [
    {
     "name": "stdout",
     "output_type": "stream",
     "text": [
      "The Lowest temperature of the most active station is>>> [('USC00519281', 54.0)]\n",
      "The Highest temperature of the most active station is>>> [('USC00519281', 85.0)]\n",
      "The Average temperature of the most active station is>>> [('USC00519281', 71.66378066378067)]\n"
     ]
    }
   ],
   "source": [
    "# Using the station id from the previous query, calculate the lowest temperature recorded, \n",
    "# highest temperature recorded, and average temperature of the most active station?\n",
    "\n",
    "station_max_temp = session.query(Measurement.station,func.max(Measurement.tobs)).\\\n",
    "                    filter(Measurement.station == 'USC00519281').all()\n",
    "                \n",
    "station_min_temp = session.query(Measurement.station,func.min(Measurement.tobs)).\\\n",
    "                    filter(Measurement.station == 'USC00519281').all()\n",
    "\n",
    "station_avg_temp = session.query(Measurement.station,func.avg(Measurement.tobs)).\\\n",
    "                    filter(Measurement.station == 'USC00519281').all()\n",
    "                \n",
    "print(\"The Lowest temperature of the most active station is>>>\", station_min_temp)\n",
    "print(\"The Highest temperature of the most active station is>>>\", station_max_temp)\n",
    "print(\"The Average temperature of the most active station is>>>\", station_avg_temp)"
   ]
  },
  {
   "cell_type": "code",
   "execution_count": 16,
   "metadata": {},
   "outputs": [
    {
     "data": {
      "image/png": "[encoded data removed]",
      "text/plain": [
       "<Figure size 576x432 with 1 Axes>"
      ]
     },
     "metadata": {},
     "output_type": "display_data"
    }
   ],
   "source": [
    "# Choose the station with the highest number of temperature observations.\n",
    "# Query the last 12 months of temperature observation data for this station and plot the results as a histogram\n",
    "\n",
    "data_temp = session.query(Measurement.tobs).\\\n",
    "    filter(func.strftime(\"%Y-%m-%d\", Measurement.date) >= query_date).\\\n",
    "    filter(Measurement.station == 'USC00519281').all()\n",
    "\n",
    "temperature_data = list(np.ravel(data_temp))\n",
    "\n",
    "# Create the histogram chart.\n",
    "plt.figure(figsize = (8,6))\n",
    "plt.hist(temperature_data, bins=12)\n",
    "\n",
    "# decorate the histogram chart for easier reading.\n",
    "plt.legend(['tobs'], loc='upper right')\n",
    "plt.ylabel('Frequency')\n",
    "plt.xlabel('Temperature')\n",
    "\n",
    "# Display the bar chart.\n",
    "#plt.tight_layout()\n",
    "plt.show()\n"
   ]
  },
  {
   "cell_type": "markdown",
   "metadata": {},
   "source": [
    "## Bonus Challenge Assignment -- Temperature Analysis I\n",
    "Un-Paired T-Test used because the number of samples (number of averages) are different."
   ]
  },
  {
   "cell_type": "code",
   "execution_count": 17,
   "metadata": {},
   "outputs": [
    {
     "name": "stdout",
     "output_type": "stream",
     "text": [
      "Ttest_indResult(statistic=6.97605237788662, pvalue=9.681543069110451e-06)\n",
      "p-value is less than 0.05--> 9.681543069110451e-06\n",
      "\n",
      "*** p-value is less than 0.05 ***\n",
      "The null hypothesis is false--> That there is a statistical difference between June and Dec Temps for HI.\n",
      "Which means that the hypothesis is true--> There is no statistical difference between June and Dec Temps for HI.\n"
     ]
    }
   ],
   "source": [
    "# Import ttest from spicy stats\n",
    "from scipy.stats import ttest_ind\n",
    "\n",
    "\n",
    "# Perform a query to retrieve the data and recorded temperatures.\n",
    "fmt = \"('%Y-%m-%d',)\"\n",
    "\n",
    "sel = [Measurement.date,\n",
    "       Measurement.station,\n",
    "       Measurement.tobs]\n",
    "\n",
    "# For June records.\n",
    "# Save the query results as a Pandas DataFrame, set the date to Phyton Date Field, Extract the year for filtering.\n",
    "# Calculate the mean for each year.\n",
    "\n",
    "data = session.query(*sel).\\\n",
    "    filter(func.strftime(\"%m\", Measurement.date) == \"06\").all()\n",
    "\n",
    "data_temp_june = pd.DataFrame(data, columns=['date', 'station','tobs'])\n",
    "data_temp_june['date'] = pd.to_datetime(data_temp_june['date'], format='%Y-%m-%d')\n",
    "data_temp_june['year'] = pd.DatetimeIndex(data_temp_june['date']).year\n",
    "data_june_avg = data_temp_june.groupby(['year']).mean()['tobs']\n",
    "\n",
    "# For December records.\n",
    "# Save the query results as a Pandas DataFrame, set the date to Phyton Date Field, Extract the year for filtering.\n",
    "# Calculate the mean for each year.\n",
    "\n",
    "data = session.query(*sel).\\\n",
    "    filter(func.strftime(\"%m\", Measurement.date) == \"12\").all()\n",
    " \n",
    "data_temp_dec = pd.DataFrame(data, columns=['date', 'station','tobs'])\n",
    "data_temp_dec['date'] = pd.to_datetime(data_temp_dec['date'], format='%Y-%m-%d')\n",
    "data_temp_dec['year'] = pd.DatetimeIndex(data_temp_dec['date']).year\n",
    "data_dec_avg = data_temp_dec.groupby(['year']).mean()['tobs']\n",
    "\n",
    "# Perform a test using Spicy Stats. Since the number of samples are not equal, we use the indendent (unpaired) test\n",
    "# for these results of the data.\n",
    "\n",
    "ttest_results = ttest_ind(data_june_avg, data_dec_avg)\n",
    "\n",
    "print(ttest_results)\n",
    "print(f\"p-value is less than 0.05--> {ttest_results[1]}\")\n",
    "print(\"\")\n",
    "print(\"*** p-value is less than 0.05 ***\")\n",
    "print(\"The null hypothesis is false--> That there is a statistical difference between June and Dec Temps for HI.\")\n",
    "print(\"Which means that the hypothesis is true--> There is no statistical difference between June and Dec Temps for HI.\")"
   ]
  },
  {
   "cell_type": "markdown",
   "metadata": {},
   "source": [
    "## Bonus Challenge Assignment Part II"
   ]
  },
  {
   "cell_type": "code",
   "execution_count": 18,
   "metadata": {},
   "outputs": [
    {
     "name": "stdout",
     "output_type": "stream",
     "text": [
      "[(62.0, 69.57142857142857, 74.0)]\n"
     ]
    }
   ],
   "source": [
    "# This function called `calc_temps` will accept start date and end date in the format '%Y-%m-%d' \n",
    "# and return the minimum, average, and maximum temperatures for that range of dates\n",
    "def calc_temps(start_date, end_date):\n",
    "    \"\"\"TMIN, TAVG, and TMAX for a list of dates.\n",
    "    \n",
    "    Args:\n",
    "        start_date (string): A date string in the format %Y-%m-%d\n",
    "        end_date (string): A date string in the format %Y-%m-%d\n",
    "        \n",
    "    Returns:\n",
    "        TMIN, TAVE, and TMAX\n",
    "    \"\"\"\n",
    "    \n",
    "    return session.query(func.min(Measurement.tobs), func.avg(Measurement.tobs), func.max(Measurement.tobs)).\\\n",
    "        filter(Measurement.date >= start_date).filter(Measurement.date <= end_date).all()\n",
    "\n",
    "# function usage example\n",
    "print(calc_temps('2012-02-28', '2012-03-05'))"
   ]
  },
  {
   "cell_type": "code",
   "execution_count": 19,
   "metadata": {
    "scrolled": true
   },
   "outputs": [],
   "source": [
    "# Use your previous function `calc_temps` to calculate the tmin, tavg, and tmax \n",
    "# for your trip using the previous year's data for those same dates.\n",
    "\n",
    "data = calc_temps('2017-07-20', '2017-08-02')\n",
    "data = list(np.ravel(data))\n",
    "yerr = data[2] - data[0]\n"
   ]
  },
  {
   "cell_type": "code",
   "execution_count": 20,
   "metadata": {},
   "outputs": [
    {
     "data": {
      "image/png": "[encoded data removed]",
      "text/plain": [
       "<Figure size 432x288 with 1 Axes>"
      ]
     },
     "metadata": {},
     "output_type": "display_data"
    }
   ],
   "source": [
    "# Plot the results from your previous query as a bar chart. \n",
    "# Use \"Trip Avg Temp\" as your Title\n",
    "# Use the average temperature for the y value\n",
    "# Use the peak-to-peak (tmax-tmin) value as the y error bar (yerr)\n",
    "\n",
    "xval = ['']\n",
    "\n",
    "plt.bar(xval, data[1], yerr=yerr, width= 0.5, align='center', color='salmon')\n",
    "plt.xticks([])\n",
    "plt.locator_params(axis='x', nbins=1)\n",
    "plt.text(0, 110,'Trip Avg Temp', fontsize=20, horizontalalignment='center')\n",
    "plt.ylabel(\"Temp (F)\")\n",
    "plt.ylim([0,115])\n",
    "plt.tight_layout()\n",
    "plt.show()"
   ]
  },
  {
   "cell_type": "code",
   "execution_count": 21,
   "metadata": {},
   "outputs": [
    {
     "data": {
      "text/plain": [
       "[(8.29,\n",
       "  'USC00516128',\n",
       "  'MANOA LYON ARBO 785.2, HI US',\n",
       "  21.3331,\n",
       "  -157.8025,\n",
       "  152.4),\n",
       " (1.8500000000000003,\n",
       "  'USC00514830',\n",
       "  'KUALOA RANCH HEADQUARTERS 886.9, HI US',\n",
       "  21.5213,\n",
       "  -157.8374,\n",
       "  7.0),\n",
       " (1.6600000000000001,\n",
       "  'USC00519281',\n",
       "  'WAIHEE 837.5, HI US',\n",
       "  21.45167,\n",
       "  -157.84888999999998,\n",
       "  32.9),\n",
       " (1.1099999999999999,\n",
       "  'USC00513117',\n",
       "  'KANEOHE 838.1, HI US',\n",
       "  21.4234,\n",
       "  -157.8015,\n",
       "  14.6),\n",
       " (0.38,\n",
       "  'USC00519523',\n",
       "  'WAIMANALO EXPERIMENTAL FARM, HI US',\n",
       "  21.33556,\n",
       "  -157.71139,\n",
       "  19.5),\n",
       " (0.13, 'USC00519397', 'WAIKIKI 717.2, HI US', 21.2716, -157.8168, 3.0),\n",
       " (0.01, 'USC00517948', 'PEARL CITY, HI US', 21.3934, -157.9751, 11.9)]"
      ]
     },
     "execution_count": 21,
     "metadata": {},
     "output_type": "execute_result"
    }
   ],
   "source": [
    "# Calculate the total amount of rainfall per weather station for your trip dates using the previous year's matching dates.\n",
    "# Sort this in descending order by precipitation amount and list the station, name, latitude, longitude, and elevation\n",
    "\n",
    "start_date = '2017-07-20'\n",
    "end_date = '2017-08-02'\n",
    "\n",
    "session.query(func.sum(Measurement.prcp),Station.station,Station.name,Station.latitude,Station.longitude,Station.elevation).\\\n",
    "    filter(Measurement.station == Station.station).\\\n",
    "    filter(Measurement.date >= start_date).filter(Measurement.date <= end_date).\\\n",
    "    group_by(Station.station).\\\n",
    "    order_by(func.sum(Measurement.prcp).desc()).all()\n"
   ]
  },
  {
   "cell_type": "code",
   "execution_count": 22,
   "metadata": {},
   "outputs": [
    {
     "data": {
      "text/plain": [
       "[(62.0, 69.15384615384616, 77.0)]"
      ]
     },
     "execution_count": 22,
     "metadata": {},
     "output_type": "execute_result"
    }
   ],
   "source": [
    "# Create a query that will calculate the daily normals \n",
    "# (i.e. the averages for tmin, tmax, and tavg for all historic data matching a specific month and day)\n",
    "\n",
    "def daily_normals(date):\n",
    "    \"\"\"Daily Normals.\n",
    "    \n",
    "    Args:\n",
    "        date (str): A date string in the format '%m-%d'\n",
    "        \n",
    "    Returns:\n",
    "        A list of tuples containing the daily normals, tmin, tavg, and tmax\n",
    "    \n",
    "    \"\"\"\n",
    "    \n",
    "    sel = [func.min(Measurement.tobs), func.avg(Measurement.tobs), func.max(Measurement.tobs)]\n",
    "    return session.query(*sel).filter(func.strftime(\"%m-%d\", Measurement.date) == date).all()\n",
    "    \n",
    "daily_normals(\"01-01\")"
   ]
  },
  {
   "cell_type": "code",
   "execution_count": 23,
   "metadata": {},
   "outputs": [],
   "source": [
    "# calculate the daily normals for your trip\n",
    "# push each tuple of calculations into a list called `normals`\n",
    "\n",
    "normals = []\n",
    "\n",
    "# Set the start and end date of the trip\n",
    "\n",
    "start_date = dt.date(2017, 7,20)\n",
    "end_date = dt.date(2017, 8, 2)\n",
    "date_start = start_date\n",
    "day_inc = dt.timedelta(days=1)\n",
    "\n",
    "# Use the start and end date to create a range of dates\n",
    "day_cnt = end_date - start_date\n",
    "day_num = day_cnt.days\n",
    "\n",
    "# Stip off the year and save a list of %m-%d strings\n",
    "# Loop through the list of %m-%d strings and calculate the normals for each dates\n",
    "\n",
    "for dte in range(day_num):\n",
    "    \n",
    "    if date_start.month < 10:\n",
    "        if date_start.day < 10:\n",
    "            dte_str = f\"0{date_start.month}-0{date_start.day}\"\n",
    "        else:\n",
    "            dte_str = f\"0{date_start.month}-{date_start.day}\"\n",
    "    else:\n",
    "        if date_start.day < 10:\n",
    "            dte_str = f\"{date_start.month}-0{date_start.day}\"\n",
    "        else: \n",
    "            dte_str = f\"{date_start.month}-{date_start.day}\"\n",
    "        \n",
    "        \n",
    "    #print (dte_str)\n",
    "    \n",
    "    normals.append(daily_normals(dte_str))\n",
    "    date_start = date_start + day_inc\n",
    "    \n",
    "date_start = start_date\n",
    "\n",
    "#normals"
   ]
  },
  {
   "cell_type": "code",
   "execution_count": 24,
   "metadata": {},
   "outputs": [],
   "source": [
    "# Load the previous query results into a Pandas DataFrame and add the `trip_dates` range as the `date` index\n",
    "\n",
    "trip_dates = []\n",
    "trip_min = []\n",
    "trip_avg = []\n",
    "trip_max = []\n",
    "\n",
    "date_start = start_date\n",
    "day_inc = dt.timedelta(days=1)\n",
    "\n",
    "# Use the start and end date to create a range of dates\n",
    "day_cnt = end_date - start_date\n",
    "day_num = day_cnt.days\n",
    "\n",
    "for dte in range(day_num):\n",
    "    \n",
    " #   print(f\"{dte} data--> {normals[dte]}\")\n",
    "    just_data = list(np.ravel(normals[dte]))\n",
    "\n",
    "    trip_min.append(just_data[0])\n",
    "    trip_avg.append(just_data[1])\n",
    "    trip_max.append(just_data[2])\n",
    "    trip_dates.append(date_start)\n",
    "    \n",
    "    date_start = date_start + day_inc\n",
    "\n",
    "trip_data_df = pd.DataFrame({'date':trip_dates,'tmin':trip_min,\n",
    "                            'tavg':trip_avg, 'tmax':trip_max})\n",
    "trip_data_df.set_index('date', inplace = True)\n",
    "\n",
    "#trip_data_df"
   ]
  },
  {
   "cell_type": "code",
   "execution_count": 25,
   "metadata": {},
   "outputs": [
    {
     "data": {
      "image/png": "[encoded data removed]",
      "text/plain": [
       "<Figure size 1008x576 with 1 Axes>"
      ]
     },
     "metadata": {},
     "output_type": "display_data"
    }
   ],
   "source": [
    "# Plot the daily normals as an area plot with `stacked=False`\n",
    "ax = trip_data_df.plot.area(stacked=False, figsize = (14,8))\n",
    "ax.set_ylabel(\"Temperature\")\n",
    "plt.xticks(rotation=90)\n",
    "plt.tight_layout()\n",
    "plt.show()\n"
   ]
  },
  {
   "cell_type": "code",
   "execution_count": null,
   "metadata": {},
   "outputs": [],
   "source": []
  }
 ],
 "metadata": {
  "kernel_info": {
   "name": "python3"
  },
  "kernelspec": {
   "display_name": "Python 3",
   "language": "python",
   "name": "python3"
  },
  "language_info": {
   "codemirror_mode": {
    "name": "ipython",
    "version": 3
   },
   "file_extension": ".py",
   "mimetype": "text/x-python",
   "name": "python",
   "nbconvert_exporter": "python",
   "pygments_lexer": "ipython3",
   "version": "3.7.6"
  },
  "nteract": {
   "version": "0.12.3"
  },
  "varInspector": {
   "cols": {
    "lenName": 16,
    "lenType": 16,
    "lenVar": 40
   },
   "kernels_config": {
    "python": {
     "delete_cmd_postfix": "",
     "delete_cmd_prefix": "del ",
     "library": "var_list.py",
     "varRefreshCmd": "print(var_dic_list())"
    },
    "r": {
     "delete_cmd_postfix": ") ",
     "delete_cmd_prefix": "rm(",
     "library": "var_list.r",
     "varRefreshCmd": "cat(var_dic_list()) "
    }
   },
   "types_to_exclude": [
    "module",
    "function",
    "builtin_function_or_method",
    "instance",
    "_Feature"
   ],
   "window_display": false
  }
 },
 "nbformat": 4,
 "nbformat_minor": 2
}
